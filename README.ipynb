{
 "cells": [
  {
   "cell_type": "markdown",
   "metadata": {},
   "source": [
    "# Como configurar/instalar/usar o `mermaid` no `Linux Ubuntu`\n",
    "\n",
    "## Resumo\n",
    "\n",
    "Neste documento estão contidos os principais comandos e configurações para configurar/instalar/usar o `mermaid` no `Linux Ubuntu`.\n",
    "\n",
    "## _Abstract_\n",
    "\n",
    "_In this document are contained the main commands and settings to set up/install/use the `mermaid` on `Linux Ubuntu`._\n"
   ]
  },
  {
   "cell_type": "markdown",
   "metadata": {},
   "source": [
    "## Descrição [2]\n",
    "\n",
    "### `mermaid`\n",
    "\n",
    "O `mermaid` é uma ferramenta de criação de mermaidgramas e gráficos a partir de texto simples. Integrado com diversas plataformas e editores, como o `Visual Studio Code` e o `GitHub`, ele permite gerar visualizações como mermaidgramas de fluxo, gráficos de Gantt e mermaidgramas de sequência usando uma linguagem de marcação fácil de aprender. O `mermaid` é especialmente útil para desenvolvedores e analistas que desejam incluir mermaidgramas e documentação técnica de forma eficiente e programática em suas documentações e projetos de código. Ele proporciona uma maneira ágil de criar representações visuais complexas sem a necessidade de _software_ gráfico avançado.\n"
   ]
  },
  {
   "cell_type": "markdown",
   "metadata": {},
   "source": [
    "## 1. Como configurar/instalar/usar o `mermaid` no `Linux Ubuntu` [1][3]\n",
    "\n",
    "Para configurar/instalar/usar o `mermaid` no `Linux Ubuntu`, você pode seguir estes passos:\n",
    "\n",
    "1. Abra o `Terminal Emulator`. Você pode fazer isso pressionando: `Ctrl + Alt + T`    "
   ]
  },
  {
   "cell_type": "markdown",
   "metadata": {},
   "source": [
    "## 1. Instalar o `pdftotext` no `Linux Ubuntu`\n",
    "\n",
    "Para instalar o `pdftotext`, siga os passos abaixo:\n",
    "\n",
    "1. Abra o `Terminal Emulator`. Você pode fazer isso pressionando: `Ctrl + Alt + T`\n",
    "\n",
    "2. Certifique-se de que seu sistema esteja limpo e atualizado.\n",
    "\n",
    "    2.1 Limpar o `cache` do gerenciador de pacotes `apt`. Especificamente, ele remove todos os arquivos de pacotes (`.deb`) baixados pelo `apt` e armazenados em `/var/cache/apt/archives/`. Digite o seguinte comando:\n",
    "    ```bash\n",
    "    sudo apt clean\n",
    "    ```\n",
    "\n",
    "    2.2 Remover pacotes `.deb` antigos ou duplicados do `cache` local. É útil para liberar espaço, pois remove apenas os pacotes que não podem mais ser baixados (ou seja, versões antigas de pacotes que foram atualizados). Digite o seguinte comando:\n",
    "    ```bash\n",
    "    sudo apt autoclean\n",
    "    ```\n",
    "\n",
    "    2.3 Remover pacotes que foram automaticamente instalados para satisfazer as dependências de outros pacotes e que não são mais necessários. Digite o seguinte comando:\n",
    "    ```bash\n",
    "    sudo apt autoremove -y\n",
    "    ```\n",
    "\n",
    "    2.4 Buscar as atualizações disponíveis para os pacotes que estão instalados em seu sistema. Digite o seguinte comando e pressione `Enter`:\n",
    "    ```bash\n",
    "    sudo apt update\n",
    "    ```\n",
    "\n",
    "    2.5 **Corrigir pacotes quebrados**: Isso atualizará a lista de pacotes disponíveis e tentará corrigir pacotes quebrados ou com dependências ausentes:\n",
    "    ```bash\n",
    "    sudo apt --fix-broken install\n",
    "    ```\n",
    "\n",
    "    2.6 Limpar o `cache` do gerenciador de pacotes `apt` novamente:\n",
    "    ```bash\n",
    "    sudo apt clean\n",
    "    ```\n",
    "\n",
    "    2.7 Para ver a lista de pacotes a serem atualizados, digite o seguinte comando e pressione `Enter`:\n",
    "    ```bash\n",
    "    sudo apt list --upgradable\n",
    "    ```\n",
    "\n",
    "    2.8 Realmente atualizar os pacotes instalados para as suas versões mais recentes, com base na última vez que você executou `sudo apt update`. Digite o seguinte comando e pressione `Enter`:\n",
    "    ```bash\n",
    "    sudo apt full-upgrade -y\n",
    "    ```"
   ]
  },
  {
   "cell_type": "markdown",
   "metadata": {},
   "source": [
    "Para instalar o `mermaid` no `Linux Ubuntu` pelo `Terminal Emulator`, você pode seguir estas etapas:\n",
    "\n",
    "1. **Instalar o `Node.js` e o `npm`**: O `mermaid` é uma ferramenta baseada em `JavaScript`, e é instalado via `npm`, que faz parte do `Node.js`. Primeiramente, atualize a lista de pacotes e instale o `Node.js` e o `npm`:\n",
    "\n",
    "```bash\n",
    "sudo apt install nodejs npm -y\n",
    "```\n",
    "\n",
    "2. **Instalar o `mermaid`**: Agora, com o `npm` instalado, você pode instalar o `mermaid-cli` (a ferramenta de linha de comando do mermaid) utilizando o seguinte comando:\n",
    "\n",
    "    ```bash\n",
    "    sudo npm install -g @mermaid-js/mermaid-cli\n",
    "    ```\n",
    "\n",
    "    O argumento `-g` significa que ele será instalado globalmente, para que você possa usar o `mermaid` em qualquer lugar do sistema.\n",
    "\n",
    "3. Verificar a instalação: Após a instalação, você pode verificar se o `mermaid-cli` foi instalado corretamente executando:\n",
    "\n",
    "    ```bash\n",
    "    mmdc -h\n",
    "    ```\n",
    "\n",
    "    Isso deve exibir a ajuda da ferramenta `mermaid-cli`, confirmando que a instalação foi bem-sucedida.\n",
    "\n",
    "Agora você está pronto para gerar mermaidgramas usando o `mermaid` via linha de comando no seu sistema `Linux Ubuntu`.\n"
   ]
  },
  {
   "cell_type": "markdown",
   "metadata": {
    "vscode": {
     "languageId": "plaintext"
    }
   },
   "source": [
    "### 1.1 Código completo para configurar/instalar/usar\n",
    "\n",
    "Para configurar/instalar/usar o `mermaid` no `Linux Ubuntu` sem precisar digitar linha por linha, você pode seguir estas etapas:\n",
    "\n",
    "1. Abra o `Terminal Emulator`. Você pode fazer isso pressionando: `Ctrl + Alt + T`\n",
    "\n",
    "2. Digite o seguinte comando e pressione `Enter`:\n",
    "\n",
    "    ```\n",
    "    sudo apt clean\n",
    "    sudo apt autoclean\n",
    "    sudo apt autoremove -y\n",
    "    sudo apt update\n",
    "    sudo apt --fix-broken install\n",
    "    sudo apt clean\n",
    "    sudo apt list --upgradable\n",
    "    sudo apt full-upgrade -y\n",
    "    sudo apt install nodejs npm\n",
    "    sudo npm install -g @mermaid-js/mermaid-cli\n",
    "    mmdc -h\n",
    "    ```\n"
   ]
  },
  {
   "cell_type": "markdown",
   "metadata": {
    "vscode": {
     "languageId": "plaintext"
    }
   },
   "source": [
    "## Referências\n",
    "\n",
    "[1] OPENAI. ***Instale o programa mermaid no ubuntu.*** Disponível em: <https://chatgpt.com/c/66e36f58-9048-8002-bd67-d2e746e319b6> (texto adaptado). ChatGPT. Acessado em: 12/09/2024 22:22.\n",
    "\n",
    "[2] OPENAI. ***Vs code: editor popular.*** Disponível em: <https://chat.openai.com/c/b640a25d-f8e3-4922-8a3b-ed74a2657e42> (texto adaptado). ChatGPT. Acessado em: 12/09/2024 22:22.\n"
   ]
  }
 ],
 "metadata": {
  "kernelspec": {
   "display_name": "Python 3",
   "language": "python",
   "name": "python3"
  },
  "language_info": {
   "codemirror_mode": {
    "name": "ipython",
    "version": 3
   },
   "file_extension": ".py",
   "mimetype": "text/x-python",
   "name": "python",
   "nbconvert_exporter": "python",
   "pygments_lexer": "ipython3",
   "version": "3.11.5"
  },
  "orig_nbformat": 4
 },
 "nbformat": 4,
 "nbformat_minor": 2
}
